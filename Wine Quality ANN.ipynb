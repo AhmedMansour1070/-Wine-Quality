{
 "cells": [
  {
   "attachments": {},
   "cell_type": "markdown",
   "metadata": {
    "papermill": {
     "duration": 0.020822,
     "end_time": "2020-12-15T01:08:45.950177",
     "exception": false,
     "start_time": "2020-12-15T01:08:45.929355",
     "status": "completed"
    },
    "tags": []
   },
   "source": [
    "# Wine Quality NoteBook"
   ]
  },
  {
   "cell_type": "code",
   "execution_count": 1,
   "metadata": {
    "_cell_guid": "b1076dfc-b9ad-4769-8c92-a6c4dae69d19",
    "_uuid": "8f2839f25d086af736a60e9eeb907d3b93b6e0e5",
    "execution": {
     "iopub.execute_input": "2020-12-15T01:08:45.996116Z",
     "iopub.status.busy": "2020-12-15T01:08:45.995365Z",
     "iopub.status.idle": "2020-12-15T01:08:47.296292Z",
     "shell.execute_reply": "2020-12-15T01:08:47.297041Z"
    },
    "papermill": {
     "duration": 1.327156,
     "end_time": "2020-12-15T01:08:47.297260",
     "exception": false,
     "start_time": "2020-12-15T01:08:45.970104",
     "status": "completed"
    },
    "tags": []
   },
   "outputs": [],
   "source": [
    "import numpy as np\n",
    "import pandas as pd\n",
    "import seaborn as sns \n",
    "\n",
    "\n",
    "import matplotlib.pyplot as plt\n",
    "import math\n"
   ]
  },
  {
   "cell_type": "markdown",
   "metadata": {
    "papermill": {
     "duration": 0.019163,
     "end_time": "2020-12-15T01:08:47.336700",
     "exception": false,
     "start_time": "2020-12-15T01:08:47.317537",
     "status": "completed"
    },
    "tags": []
   },
   "source": [
    "# Prepare Data"
   ]
  },
  {
   "cell_type": "code",
   "execution_count": 3,
   "metadata": {
    "_cell_guid": "79c7e3d0-c299-4dcb-8224-4455121ee9b0",
    "_uuid": "d629ff2d2480ee46fbb7e2d37f6b5fab8052498a",
    "execution": {
     "iopub.execute_input": "2020-12-15T01:08:47.386098Z",
     "iopub.status.busy": "2020-12-15T01:08:47.385361Z",
     "iopub.status.idle": "2020-12-15T01:08:47.443599Z",
     "shell.execute_reply": "2020-12-15T01:08:47.442967Z"
    },
    "papermill": {
     "duration": 0.086828,
     "end_time": "2020-12-15T01:08:47.443724",
     "exception": false,
     "start_time": "2020-12-15T01:08:47.356896",
     "status": "completed"
    },
    "tags": []
   },
   "outputs": [
    {
     "data": {
      "text/html": [
       "<div>\n",
       "<style scoped>\n",
       "    .dataframe tbody tr th:only-of-type {\n",
       "        vertical-align: middle;\n",
       "    }\n",
       "\n",
       "    .dataframe tbody tr th {\n",
       "        vertical-align: top;\n",
       "    }\n",
       "\n",
       "    .dataframe thead th {\n",
       "        text-align: right;\n",
       "    }\n",
       "</style>\n",
       "<table border=\"1\" class=\"dataframe\">\n",
       "  <thead>\n",
       "    <tr style=\"text-align: right;\">\n",
       "      <th></th>\n",
       "      <th>type</th>\n",
       "      <th>fixed acidity</th>\n",
       "      <th>volatile acidity</th>\n",
       "      <th>citric acid</th>\n",
       "      <th>residual sugar</th>\n",
       "      <th>chlorides</th>\n",
       "      <th>free sulfur dioxide</th>\n",
       "      <th>total sulfur dioxide</th>\n",
       "      <th>density</th>\n",
       "      <th>pH</th>\n",
       "      <th>sulphates</th>\n",
       "      <th>alcohol</th>\n",
       "      <th>quality</th>\n",
       "    </tr>\n",
       "  </thead>\n",
       "  <tbody>\n",
       "    <tr>\n",
       "      <th>0</th>\n",
       "      <td>white</td>\n",
       "      <td>7.0</td>\n",
       "      <td>0.27</td>\n",
       "      <td>0.36</td>\n",
       "      <td>20.7</td>\n",
       "      <td>0.045</td>\n",
       "      <td>45.0</td>\n",
       "      <td>170.0</td>\n",
       "      <td>1.0010</td>\n",
       "      <td>3.00</td>\n",
       "      <td>0.45</td>\n",
       "      <td>8.8</td>\n",
       "      <td>6</td>\n",
       "    </tr>\n",
       "    <tr>\n",
       "      <th>1</th>\n",
       "      <td>white</td>\n",
       "      <td>6.3</td>\n",
       "      <td>0.30</td>\n",
       "      <td>0.34</td>\n",
       "      <td>1.6</td>\n",
       "      <td>0.049</td>\n",
       "      <td>14.0</td>\n",
       "      <td>132.0</td>\n",
       "      <td>0.9940</td>\n",
       "      <td>3.30</td>\n",
       "      <td>0.49</td>\n",
       "      <td>9.5</td>\n",
       "      <td>6</td>\n",
       "    </tr>\n",
       "    <tr>\n",
       "      <th>2</th>\n",
       "      <td>white</td>\n",
       "      <td>8.1</td>\n",
       "      <td>0.28</td>\n",
       "      <td>0.40</td>\n",
       "      <td>6.9</td>\n",
       "      <td>0.050</td>\n",
       "      <td>30.0</td>\n",
       "      <td>97.0</td>\n",
       "      <td>0.9951</td>\n",
       "      <td>3.26</td>\n",
       "      <td>0.44</td>\n",
       "      <td>10.1</td>\n",
       "      <td>6</td>\n",
       "    </tr>\n",
       "    <tr>\n",
       "      <th>3</th>\n",
       "      <td>white</td>\n",
       "      <td>7.2</td>\n",
       "      <td>0.23</td>\n",
       "      <td>0.32</td>\n",
       "      <td>8.5</td>\n",
       "      <td>0.058</td>\n",
       "      <td>47.0</td>\n",
       "      <td>186.0</td>\n",
       "      <td>0.9956</td>\n",
       "      <td>3.19</td>\n",
       "      <td>0.40</td>\n",
       "      <td>9.9</td>\n",
       "      <td>6</td>\n",
       "    </tr>\n",
       "    <tr>\n",
       "      <th>4</th>\n",
       "      <td>white</td>\n",
       "      <td>7.2</td>\n",
       "      <td>0.23</td>\n",
       "      <td>0.32</td>\n",
       "      <td>8.5</td>\n",
       "      <td>0.058</td>\n",
       "      <td>47.0</td>\n",
       "      <td>186.0</td>\n",
       "      <td>0.9956</td>\n",
       "      <td>3.19</td>\n",
       "      <td>0.40</td>\n",
       "      <td>9.9</td>\n",
       "      <td>6</td>\n",
       "    </tr>\n",
       "  </tbody>\n",
       "</table>\n",
       "</div>"
      ],
      "text/plain": [
       "    type  fixed acidity  volatile acidity  citric acid  residual sugar  \\\n",
       "0  white            7.0              0.27         0.36            20.7   \n",
       "1  white            6.3              0.30         0.34             1.6   \n",
       "2  white            8.1              0.28         0.40             6.9   \n",
       "3  white            7.2              0.23         0.32             8.5   \n",
       "4  white            7.2              0.23         0.32             8.5   \n",
       "\n",
       "   chlorides  free sulfur dioxide  total sulfur dioxide  density    pH  \\\n",
       "0      0.045                 45.0                 170.0   1.0010  3.00   \n",
       "1      0.049                 14.0                 132.0   0.9940  3.30   \n",
       "2      0.050                 30.0                  97.0   0.9951  3.26   \n",
       "3      0.058                 47.0                 186.0   0.9956  3.19   \n",
       "4      0.058                 47.0                 186.0   0.9956  3.19   \n",
       "\n",
       "   sulphates  alcohol  quality  \n",
       "0       0.45      8.8        6  \n",
       "1       0.49      9.5        6  \n",
       "2       0.44     10.1        6  \n",
       "3       0.40      9.9        6  \n",
       "4       0.40      9.9        6  "
      ]
     },
     "execution_count": 3,
     "metadata": {},
     "output_type": "execute_result"
    }
   ],
   "source": [
    "df = pd.read_csv('winequalityN.csv')\n",
    "df.head()"
   ]
  },
  {
   "cell_type": "code",
   "execution_count": 4,
   "metadata": {
    "execution": {
     "iopub.execute_input": "2020-12-15T01:08:47.498018Z",
     "iopub.status.busy": "2020-12-15T01:08:47.497106Z",
     "iopub.status.idle": "2020-12-15T01:08:47.501286Z",
     "shell.execute_reply": "2020-12-15T01:08:47.500548Z"
    },
    "papermill": {
     "duration": 0.036952,
     "end_time": "2020-12-15T01:08:47.501425",
     "exception": false,
     "start_time": "2020-12-15T01:08:47.464473",
     "status": "completed"
    },
    "tags": []
   },
   "outputs": [],
   "source": [
    "labels = np.unique(df['type'].values)\n",
    "idx_to_labels = { k:v for k,v in enumerate(labels) }\n",
    "labels_to_idx = { v:k for k,v in enumerate(labels) }"
   ]
  },
  {
   "cell_type": "code",
   "execution_count": 5,
   "metadata": {
    "execution": {
     "iopub.execute_input": "2020-12-15T01:08:47.549732Z",
     "iopub.status.busy": "2020-12-15T01:08:47.548994Z",
     "iopub.status.idle": "2020-12-15T01:08:47.587538Z",
     "shell.execute_reply": "2020-12-15T01:08:47.586690Z"
    },
    "papermill": {
     "duration": 0.06556,
     "end_time": "2020-12-15T01:08:47.587673",
     "exception": false,
     "start_time": "2020-12-15T01:08:47.522113",
     "status": "completed"
    },
    "tags": []
   },
   "outputs": [],
   "source": [
    "labels = df.replace(labels_to_idx)['type'].values\n",
    "df = df.drop(columns=['type'])\n",
    "\n",
    "# one hot encoding\n",
    "labels = np.eye(len(idx_to_labels))[labels]"
   ]
  },
  {
   "cell_type": "code",
   "execution_count": 23,
   "metadata": {
    "execution": {
     "iopub.execute_input": "2020-12-15T01:08:47.636601Z",
     "iopub.status.busy": "2020-12-15T01:08:47.635796Z",
     "iopub.status.idle": "2020-12-15T01:08:47.691439Z",
     "shell.execute_reply": "2020-12-15T01:08:47.690665Z"
    },
    "papermill": {
     "duration": 0.08277,
     "end_time": "2020-12-15T01:08:47.691566",
     "exception": false,
     "start_time": "2020-12-15T01:08:47.608796",
     "status": "completed"
    },
    "tags": []
   },
   "outputs": [
    {
     "data": {
      "text/html": [
       "<div>\n",
       "<style scoped>\n",
       "    .dataframe tbody tr th:only-of-type {\n",
       "        vertical-align: middle;\n",
       "    }\n",
       "\n",
       "    .dataframe tbody tr th {\n",
       "        vertical-align: top;\n",
       "    }\n",
       "\n",
       "    .dataframe thead th {\n",
       "        text-align: right;\n",
       "    }\n",
       "</style>\n",
       "<table border=\"1\" class=\"dataframe\">\n",
       "  <thead>\n",
       "    <tr style=\"text-align: right;\">\n",
       "      <th></th>\n",
       "      <th>fixed acidity</th>\n",
       "      <th>volatile acidity</th>\n",
       "      <th>citric acid</th>\n",
       "      <th>residual sugar</th>\n",
       "      <th>chlorides</th>\n",
       "      <th>free sulfur dioxide</th>\n",
       "      <th>total sulfur dioxide</th>\n",
       "      <th>density</th>\n",
       "      <th>pH</th>\n",
       "      <th>sulphates</th>\n",
       "      <th>alcohol</th>\n",
       "      <th>quality</th>\n",
       "    </tr>\n",
       "  </thead>\n",
       "  <tbody>\n",
       "    <tr>\n",
       "      <th>0</th>\n",
       "      <td>-0.168556</td>\n",
       "      <td>-0.424502</td>\n",
       "      <td>0.283696</td>\n",
       "      <td>3.205929</td>\n",
       "      <td>-0.315457</td>\n",
       "      <td>0.815503</td>\n",
       "      <td>0.959902</td>\n",
       "      <td>2.102052</td>\n",
       "      <td>-1.360004</td>\n",
       "      <td>-0.546365</td>\n",
       "      <td>-1.418449</td>\n",
       "      <td>0.207983</td>\n",
       "    </tr>\n",
       "    <tr>\n",
       "      <th>1</th>\n",
       "      <td>-0.708368</td>\n",
       "      <td>-0.242296</td>\n",
       "      <td>0.146016</td>\n",
       "      <td>-0.808258</td>\n",
       "      <td>-0.201289</td>\n",
       "      <td>-0.931035</td>\n",
       "      <td>0.287595</td>\n",
       "      <td>-0.232314</td>\n",
       "      <td>0.506269</td>\n",
       "      <td>-0.277573</td>\n",
       "      <td>-0.831551</td>\n",
       "      <td>0.207983</td>\n",
       "    </tr>\n",
       "    <tr>\n",
       "      <th>2</th>\n",
       "      <td>0.679719</td>\n",
       "      <td>-0.363766</td>\n",
       "      <td>0.559055</td>\n",
       "      <td>0.305626</td>\n",
       "      <td>-0.172747</td>\n",
       "      <td>-0.029596</td>\n",
       "      <td>-0.331634</td>\n",
       "      <td>0.134515</td>\n",
       "      <td>0.257433</td>\n",
       "      <td>-0.613563</td>\n",
       "      <td>-0.328496</td>\n",
       "      <td>0.207983</td>\n",
       "    </tr>\n",
       "    <tr>\n",
       "      <th>3</th>\n",
       "      <td>-0.014324</td>\n",
       "      <td>-0.667443</td>\n",
       "      <td>0.008337</td>\n",
       "      <td>0.641893</td>\n",
       "      <td>0.055590</td>\n",
       "      <td>0.928182</td>\n",
       "      <td>1.242978</td>\n",
       "      <td>0.301255</td>\n",
       "      <td>-0.178031</td>\n",
       "      <td>-0.882354</td>\n",
       "      <td>-0.496181</td>\n",
       "      <td>0.207983</td>\n",
       "    </tr>\n",
       "    <tr>\n",
       "      <th>4</th>\n",
       "      <td>-0.014324</td>\n",
       "      <td>-0.667443</td>\n",
       "      <td>0.008337</td>\n",
       "      <td>0.641893</td>\n",
       "      <td>0.055590</td>\n",
       "      <td>0.928182</td>\n",
       "      <td>1.242978</td>\n",
       "      <td>0.301255</td>\n",
       "      <td>-0.178031</td>\n",
       "      <td>-0.882354</td>\n",
       "      <td>-0.496181</td>\n",
       "      <td>0.207983</td>\n",
       "    </tr>\n",
       "  </tbody>\n",
       "</table>\n",
       "</div>"
      ],
      "text/plain": [
       "   fixed acidity  volatile acidity  citric acid  residual sugar  chlorides  \\\n",
       "0      -0.168556         -0.424502     0.283696        3.205929  -0.315457   \n",
       "1      -0.708368         -0.242296     0.146016       -0.808258  -0.201289   \n",
       "2       0.679719         -0.363766     0.559055        0.305626  -0.172747   \n",
       "3      -0.014324         -0.667443     0.008337        0.641893   0.055590   \n",
       "4      -0.014324         -0.667443     0.008337        0.641893   0.055590   \n",
       "\n",
       "   free sulfur dioxide  total sulfur dioxide   density        pH  sulphates  \\\n",
       "0             0.815503              0.959902  2.102052 -1.360004  -0.546365   \n",
       "1            -0.931035              0.287595 -0.232314  0.506269  -0.277573   \n",
       "2            -0.029596             -0.331634  0.134515  0.257433  -0.613563   \n",
       "3             0.928182              1.242978  0.301255 -0.178031  -0.882354   \n",
       "4             0.928182              1.242978  0.301255 -0.178031  -0.882354   \n",
       "\n",
       "    alcohol   quality  \n",
       "0 -1.418449  0.207983  \n",
       "1 -0.831551  0.207983  \n",
       "2 -0.328496  0.207983  \n",
       "3 -0.496181  0.207983  \n",
       "4 -0.496181  0.207983  "
      ]
     },
     "execution_count": 23,
     "metadata": {},
     "output_type": "execute_result"
    }
   ],
   "source": [
    "# normalized data\n",
    "df = (df-df.mean())/df.std()\n",
    "\n",
    "# replace NaN with Standard Deviation\n",
    "df = df.fillna(df.mean())\n",
    "\n",
    "df.head()"
   ]
  },
  {
   "cell_type": "code",
   "execution_count": 24,
   "metadata": {
    "execution": {
     "iopub.execute_input": "2020-12-15T01:08:47.741682Z",
     "iopub.status.busy": "2020-12-15T01:08:47.740837Z",
     "iopub.status.idle": "2020-12-15T01:08:47.744447Z",
     "shell.execute_reply": "2020-12-15T01:08:47.743792Z"
    },
    "papermill": {
     "duration": 0.031181,
     "end_time": "2020-12-15T01:08:47.744582",
     "exception": false,
     "start_time": "2020-12-15T01:08:47.713401",
     "status": "completed"
    },
    "tags": []
   },
   "outputs": [],
   "source": [
    "features = df.values"
   ]
  },
  {
   "cell_type": "code",
   "execution_count": 25,
   "metadata": {
    "execution": {
     "iopub.execute_input": "2020-12-15T01:08:47.795539Z",
     "iopub.status.busy": "2020-12-15T01:08:47.794616Z",
     "iopub.status.idle": "2020-12-15T01:08:47.799173Z",
     "shell.execute_reply": "2020-12-15T01:08:47.798435Z"
    },
    "papermill": {
     "duration": 0.032988,
     "end_time": "2020-12-15T01:08:47.799315",
     "exception": false,
     "start_time": "2020-12-15T01:08:47.766327",
     "status": "completed"
    },
    "tags": []
   },
   "outputs": [],
   "source": [
    "from sklearn.model_selection import train_test_split\n",
    "\n",
    "X_train, X_test, y_train, y_test = train_test_split(features, labels, test_size=0.33, random_state=42)"
   ]
  },
  {
   "cell_type": "markdown",
   "metadata": {
    "papermill": {
     "duration": 0.021691,
     "end_time": "2020-12-15T01:08:47.843136",
     "exception": false,
     "start_time": "2020-12-15T01:08:47.821445",
     "status": "completed"
    },
    "tags": []
   },
   "source": [
    "# Parameters"
   ]
  },
  {
   "cell_type": "code",
   "execution_count": 26,
   "metadata": {
    "execution": {
     "iopub.execute_input": "2020-12-15T01:08:47.894959Z",
     "iopub.status.busy": "2020-12-15T01:08:47.893849Z",
     "iopub.status.idle": "2020-12-15T01:08:47.898022Z",
     "shell.execute_reply": "2020-12-15T01:08:47.897203Z"
    },
    "papermill": {
     "duration": 0.033106,
     "end_time": "2020-12-15T01:08:47.898156",
     "exception": false,
     "start_time": "2020-12-15T01:08:47.865050",
     "status": "completed"
    },
    "tags": []
   },
   "outputs": [],
   "source": [
    "gamma = {}\n",
    "gamma[\"ndims\"] = features.shape[1]\n",
    "gamma[\"nclasses\"] = len(idx_to_labels.values())"
   ]
  },
  {
   "cell_type": "markdown",
   "metadata": {
    "papermill": {
     "duration": 0.023454,
     "end_time": "2020-12-15T01:08:47.947435",
     "exception": false,
     "start_time": "2020-12-15T01:08:47.923981",
     "status": "completed"
    },
    "tags": []
   },
   "source": [
    "# Generate Weights"
   ]
  },
  {
   "cell_type": "code",
   "execution_count": 27,
   "metadata": {
    "execution": {
     "iopub.execute_input": "2020-12-15T01:08:48.003331Z",
     "iopub.status.busy": "2020-12-15T01:08:48.002221Z",
     "iopub.status.idle": "2020-12-15T01:08:48.006137Z",
     "shell.execute_reply": "2020-12-15T01:08:48.005406Z"
    },
    "papermill": {
     "duration": 0.036153,
     "end_time": "2020-12-15T01:08:48.006289",
     "exception": false,
     "start_time": "2020-12-15T01:08:47.970136",
     "status": "completed"
    },
    "tags": []
   },
   "outputs": [],
   "source": [
    "np.random.seed(1337)\n",
    "def generate_weights(gamma):\n",
    "    '''\n",
    "        Generate Weights and use Xavier Initiation\n",
    "    '''\n",
    "    scale = 1/max(1., (2+2)/2.)\n",
    "    limit = math.sqrt(3.0 * scale)\n",
    "\n",
    "    gamma['w0'] = np.random.uniform(-limit, limit, size=(gamma['ndims'], gamma['ndims']))\n",
    "    gamma['w1'] = np.random.uniform(-limit, limit, size=(gamma['ndims'], gamma['nclasses']))\n",
    "    \n",
    "    return gamma"
   ]
  },
  {
   "cell_type": "code",
   "execution_count": 28,
   "metadata": {
    "execution": {
     "iopub.execute_input": "2020-12-15T01:08:48.058711Z",
     "iopub.status.busy": "2020-12-15T01:08:48.057893Z",
     "iopub.status.idle": "2020-12-15T01:08:48.063166Z",
     "shell.execute_reply": "2020-12-15T01:08:48.064032Z"
    },
    "papermill": {
     "duration": 0.035053,
     "end_time": "2020-12-15T01:08:48.064267",
     "exception": false,
     "start_time": "2020-12-15T01:08:48.029214",
     "status": "completed"
    },
    "tags": []
   },
   "outputs": [
    {
     "name": "stdout",
     "output_type": "stream",
     "text": [
      "w0 shape: (12, 12)  - w1 shape: (12, 2)\n"
     ]
    }
   ],
   "source": [
    "gamma = generate_weights(gamma)\n",
    "print('w0 shape:', gamma['w0'].shape, ' - w1 shape:', gamma['w1'].shape)"
   ]
  },
  {
   "cell_type": "markdown",
   "metadata": {
    "papermill": {
     "duration": 0.023476,
     "end_time": "2020-12-15T01:08:48.111429",
     "exception": false,
     "start_time": "2020-12-15T01:08:48.087953",
     "status": "completed"
    },
    "tags": []
   },
   "source": [
    "# Activation Function and Derivative"
   ]
  },
  {
   "cell_type": "code",
   "execution_count": 29,
   "metadata": {
    "execution": {
     "iopub.execute_input": "2020-12-15T01:08:48.165259Z",
     "iopub.status.busy": "2020-12-15T01:08:48.164091Z",
     "iopub.status.idle": "2020-12-15T01:08:48.167694Z",
     "shell.execute_reply": "2020-12-15T01:08:48.167016Z"
    },
    "papermill": {
     "duration": 0.033461,
     "end_time": "2020-12-15T01:08:48.167830",
     "exception": false,
     "start_time": "2020-12-15T01:08:48.134369",
     "status": "completed"
    },
    "tags": []
   },
   "outputs": [],
   "source": [
    "def sigmoid(x):\n",
    "    return 1. / (1. + np.exp(-x))\n",
    "\n",
    "def dsigmoid(x):\n",
    "    return x * (1. - x)"
   ]
  },
  {
   "cell_type": "markdown",
   "metadata": {
    "papermill": {
     "duration": 0.023041,
     "end_time": "2020-12-15T01:08:48.214206",
     "exception": false,
     "start_time": "2020-12-15T01:08:48.191165",
     "status": "completed"
    },
    "tags": []
   },
   "source": [
    "# Training"
   ]
  },
  {
   "cell_type": "code",
   "execution_count": 30,
   "metadata": {
    "execution": {
     "iopub.execute_input": "2020-12-15T01:08:48.267372Z",
     "iopub.status.busy": "2020-12-15T01:08:48.266607Z",
     "iopub.status.idle": "2020-12-15T01:08:48.270274Z",
     "shell.execute_reply": "2020-12-15T01:08:48.269636Z"
    },
    "papermill": {
     "duration": 0.032965,
     "end_time": "2020-12-15T01:08:48.270412",
     "exception": false,
     "start_time": "2020-12-15T01:08:48.237447",
     "status": "completed"
    },
    "tags": []
   },
   "outputs": [],
   "source": [
    "def loss(y, y_hat):\n",
    "    '''\n",
    "        Addition of all Squared Mean Errors\n",
    "    '''\n",
    "    return np.sum(np.mean(np.square(np.subtract(y, y_hat)), axis=0))"
   ]
  },
  {
   "cell_type": "code",
   "execution_count": 31,
   "metadata": {
    "execution": {
     "iopub.execute_input": "2020-12-15T01:08:48.324778Z",
     "iopub.status.busy": "2020-12-15T01:08:48.323707Z",
     "iopub.status.idle": "2020-12-15T01:08:48.327140Z",
     "shell.execute_reply": "2020-12-15T01:08:48.326554Z"
    },
    "papermill": {
     "duration": 0.033591,
     "end_time": "2020-12-15T01:08:48.327313",
     "exception": false,
     "start_time": "2020-12-15T01:08:48.293722",
     "status": "completed"
    },
    "tags": []
   },
   "outputs": [],
   "source": [
    "def forward(X, gamma):\n",
    "    '''\n",
    "        Forward Propagation\n",
    "    '''\n",
    "    l0 = X\n",
    "    l1 = sigmoid(np.dot(l0, gamma['w0']))\n",
    "    l2 = sigmoid(np.dot(l1, gamma['w1']))\n",
    "    \n",
    "    return l0, l1, l2"
   ]
  },
  {
   "cell_type": "code",
   "execution_count": 32,
   "metadata": {
    "execution": {
     "iopub.execute_input": "2020-12-15T01:08:48.385635Z",
     "iopub.status.busy": "2020-12-15T01:08:48.384439Z",
     "iopub.status.idle": "2020-12-15T01:08:48.387563Z",
     "shell.execute_reply": "2020-12-15T01:08:48.388116Z"
    },
    "papermill": {
     "duration": 0.03719,
     "end_time": "2020-12-15T01:08:48.388306",
     "exception": false,
     "start_time": "2020-12-15T01:08:48.351116",
     "status": "completed"
    },
    "tags": []
   },
   "outputs": [],
   "source": [
    "def backward(y, theta, gamma, lr):\n",
    "    '''\n",
    "        Backward Propagation\n",
    "    '''\n",
    "    l0, l1, l2 = theta\n",
    "    \n",
    "    l2_error = y - l2\n",
    "    l2_delta = l2_error * dsigmoid(l2)\n",
    "    l1_error = l2_delta.dot(gamma['w1'].T)\n",
    "    l1_delta = l1_error * dsigmoid(l1)\n",
    "    \n",
    "    # update using SGD\n",
    "    gamma['w0'] += lr * l0.T.dot(l1_delta)\n",
    "    gamma['w1'] += lr * l1.T.dot(l2_delta)\n",
    "    \n",
    "    return gamma"
   ]
  },
  {
   "cell_type": "code",
   "execution_count": 33,
   "metadata": {
    "execution": {
     "iopub.execute_input": "2020-12-15T01:08:48.447459Z",
     "iopub.status.busy": "2020-12-15T01:08:48.446390Z",
     "iopub.status.idle": "2020-12-15T01:08:48.449555Z",
     "shell.execute_reply": "2020-12-15T01:08:48.450088Z"
    },
    "papermill": {
     "duration": 0.037719,
     "end_time": "2020-12-15T01:08:48.450275",
     "exception": false,
     "start_time": "2020-12-15T01:08:48.412556",
     "status": "completed"
    },
    "tags": []
   },
   "outputs": [],
   "source": [
    "def train(X, y, gamma, iterations=60, lr=0.01):\n",
    "    '''\n",
    "        Function to Train Dataset\n",
    "    '''\n",
    "    errors = []\n",
    "    for i in range(iterations):\n",
    "        # forward propagation\n",
    "        theta = forward(X, gamma)\n",
    "        \n",
    "        e = loss(theta[-1], y)\n",
    "        if(i % 4 == 0):\n",
    "            print('I:{0:4d}, --  Mean Error:{1:1.4f}'.format(i, np.mean(e)))\n",
    "        errors.append(e)\n",
    "\n",
    "        # backward propagation\n",
    "        gamma = backward(y, theta, gamma, lr)\n",
    "            \n",
    "    return gamma, errors"
   ]
  },
  {
   "cell_type": "code",
   "execution_count": 34,
   "metadata": {
    "execution": {
     "iopub.execute_input": "2020-12-15T01:08:48.504117Z",
     "iopub.status.busy": "2020-12-15T01:08:48.503349Z",
     "iopub.status.idle": "2020-12-15T01:08:48.736162Z",
     "shell.execute_reply": "2020-12-15T01:08:48.734945Z"
    },
    "papermill": {
     "duration": 0.261666,
     "end_time": "2020-12-15T01:08:48.736415",
     "exception": false,
     "start_time": "2020-12-15T01:08:48.474749",
     "status": "completed"
    },
    "tags": []
   },
   "outputs": [
    {
     "name": "stdout",
     "output_type": "stream",
     "text": [
      "I:   0, --  Mean Error:0.4614\n",
      "I:   4, --  Mean Error:0.0314\n",
      "I:   8, --  Mean Error:0.0181\n",
      "I:  12, --  Mean Error:0.0162\n",
      "I:  16, --  Mean Error:0.0147\n",
      "I:  20, --  Mean Error:0.0135\n",
      "I:  24, --  Mean Error:0.0126\n",
      "I:  28, --  Mean Error:0.0118\n",
      "I:  32, --  Mean Error:0.0112\n",
      "I:  36, --  Mean Error:0.0107\n",
      "I:  40, --  Mean Error:0.0103\n",
      "I:  44, --  Mean Error:0.0099\n",
      "I:  48, --  Mean Error:0.0096\n",
      "I:  52, --  Mean Error:0.0093\n",
      "I:  56, --  Mean Error:0.0090\n"
     ]
    }
   ],
   "source": [
    "gamma, errors = train(X_train, y_train, gamma)"
   ]
  },
  {
   "cell_type": "markdown",
   "metadata": {
    "papermill": {
     "duration": 0.025298,
     "end_time": "2020-12-15T01:08:48.791036",
     "exception": false,
     "start_time": "2020-12-15T01:08:48.765738",
     "status": "completed"
    },
    "tags": []
   },
   "source": [
    "# Plot Error Lost"
   ]
  },
  {
   "cell_type": "code",
   "execution_count": 35,
   "metadata": {
    "execution": {
     "iopub.execute_input": "2020-12-15T01:08:48.849174Z",
     "iopub.status.busy": "2020-12-15T01:08:48.847820Z",
     "iopub.status.idle": "2020-12-15T01:08:49.051883Z",
     "shell.execute_reply": "2020-12-15T01:08:49.050715Z"
    },
    "papermill": {
     "duration": 0.235667,
     "end_time": "2020-12-15T01:08:49.052045",
     "exception": false,
     "start_time": "2020-12-15T01:08:48.816378",
     "status": "completed"
    },
    "tags": []
   },
   "outputs": [
    {
     "data": {
      "text/plain": [
       "[<matplotlib.lines.Line2D at 0x29b44055030>]"
      ]
     },
     "execution_count": 35,
     "metadata": {},
     "output_type": "execute_result"
    },
    {
     "data": {
      "image/png": "[encoded data removed]",
      "text/plain": [
       "<Figure size 640x480 with 1 Axes>"
      ]
     },
     "metadata": {},
     "output_type": "display_data"
    }
   ],
   "source": [
    "plt.plot(errors)"
   ]
  },
  {
   "cell_type": "markdown",
   "metadata": {
    "papermill": {
     "duration": 0.025398,
     "end_time": "2020-12-15T01:08:49.111080",
     "exception": false,
     "start_time": "2020-12-15T01:08:49.085682",
     "status": "completed"
    },
    "tags": []
   },
   "source": [
    "# Accuracy"
   ]
  },
  {
   "cell_type": "code",
   "execution_count": 36,
   "metadata": {
    "execution": {
     "iopub.execute_input": "2020-12-15T01:08:49.176697Z",
     "iopub.status.busy": "2020-12-15T01:08:49.175836Z",
     "iopub.status.idle": "2020-12-15T01:08:49.180058Z",
     "shell.execute_reply": "2020-12-15T01:08:49.179322Z"
    },
    "papermill": {
     "duration": 0.04314,
     "end_time": "2020-12-15T01:08:49.180183",
     "exception": false,
     "start_time": "2020-12-15T01:08:49.137043",
     "status": "completed"
    },
    "tags": []
   },
   "outputs": [],
   "source": [
    "def accuracy(y, gamma):\n",
    "    '''\n",
    "    Function to calculate accuracy\n",
    "    '''\n",
    "    acc_y = []\n",
    "    for x in X_test:\n",
    "        y = np.argmax(forward(x.reshape(1, 12), gamma)[-1])\n",
    "        y = np.eye(gamma[\"nclasses\"])[y]\n",
    "        acc_y.append(y)\n",
    "\n",
    "    acc_y = np.array(acc_y)\n",
    "    wrong = len(np.where(np.equal(y_test, acc_y).astype(int) == 0)[0])\n",
    "    return 1 - (len(y) / wrong)"
   ]
  },
  {
   "cell_type": "code",
   "execution_count": 37,
   "metadata": {
    "execution": {
     "iopub.execute_input": "2020-12-15T01:08:49.256453Z",
     "iopub.status.busy": "2020-12-15T01:08:49.253961Z",
     "iopub.status.idle": "2020-12-15T01:08:49.334677Z",
     "shell.execute_reply": "2020-12-15T01:08:49.333370Z"
    },
    "papermill": {
     "duration": 0.128115,
     "end_time": "2020-12-15T01:08:49.334832",
     "exception": false,
     "start_time": "2020-12-15T01:08:49.206717",
     "status": "completed"
    },
    "tags": []
   },
   "outputs": [
    {
     "name": "stdout",
     "output_type": "stream",
     "text": [
      "Accuracy: 90%\n"
     ]
    }
   ],
   "source": [
    "print('Accuracy:{0:3d}%'.format(int(accuracy(y_train, gamma) * 100)))"
   ]
  },
  {
   "cell_type": "code",
   "execution_count": null,
   "metadata": {},
   "outputs": [],
   "source": []
  },
  {
   "cell_type": "code",
   "execution_count": null,
   "metadata": {},
   "outputs": [],
   "source": []
  },
  {
   "cell_type": "code",
   "execution_count": null,
   "metadata": {},
   "outputs": [],
   "source": []
  }
 ],
 "metadata": {
  "kernelspec": {
   "display_name": "Python 3",
   "language": "python",
   "name": "python3"
  },
  "language_info": {
   "codemirror_mode": {
    "name": "ipython",
    "version": 3
   },
   "file_extension": ".py",
   "mimetype": "text/x-python",
   "name": "python",
   "nbconvert_exporter": "python",
   "pygments_lexer": "ipython3",
   "version": "3.10.6"
  },
  "papermill": {
   "duration": 9.232098,
   "end_time": "2020-12-15T01:08:49.470165",
   "environment_variables": {},
   "exception": null,
   "input_path": "__notebook__.ipynb",
   "output_path": "__notebook__.ipynb",
   "parameters": {},
   "start_time": "2020-12-15T01:08:40.238067",
   "version": "2.1.0"
  },
  "vscode": {
   "interpreter": {
    "hash": "235c57b0f0ab22a7cc8c44ff9707e15974072321be8a5e2a17570238de31e6b8"
   }
  }
 },
 "nbformat": 4,
 "nbformat_minor": 4
}
